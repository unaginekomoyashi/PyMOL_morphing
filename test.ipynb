{
  "nbformat": 4,
  "nbformat_minor": 0,
  "metadata": {
    "colab": {
      "name": "Untitled1.ipynb",
      "provenance": [],
      "toc_visible": true,
      "include_colab_link": true
    },
    "kernelspec": {
      "name": "python3",
      "display_name": "Python 3"
    },
    "accelerator": "GPU"
  },
  "cells": [
    {
      "cell_type": "markdown",
      "metadata": {
        "id": "view-in-github",
        "colab_type": "text"
      },
      "source": [
        "<a href=\"https://colab.research.google.com/github/unaginekomoyashi/PyMOL_morphing/blob/master/test.ipynb\" target=\"_parent\"><img src=\"https://colab.research.google.com/assets/colab-badge.svg\" alt=\"Open In Colab\"/></a>"
      ]
    },
    {
      "cell_type": "code",
      "metadata": {
        "id": "kYys_fRaTpQ5",
        "colab_type": "code",
        "colab": {
          "base_uri": "https://localhost:8080/",
          "height": 35
        },
        "outputId": "a3e66d09-440f-484c-cf49-c35047ac4d7d"
      },
      "source": [
        "# download API key from google drive\n",
        "## Original: https://colab.research.google.com/drive/1eufc8aNCdjHbrBhuy7M7X6BGyzAyRbrF#scrollTo=y5_288BYp6H1\n",
        "## When you run for the first time, you will see a link to authenticate.\n",
        "\n",
        "from googleapiclient.discovery import build\n",
        "import io, os\n",
        "from googleapiclient.http import MediaIoBaseDownload\n",
        "from google.colab import auth\n",
        "\n",
        "auth.authenticate_user()\n",
        "\n",
        "drive_service = build('drive', 'v3')\n",
        "results = drive_service.files().list(\n",
        "        q=\"name = 'kaggle.json'\", fields=\"files(id)\").execute()\n",
        "kaggle_api_key = results.get('files', [])\n",
        "\n",
        "filename = \"/root/.kaggle/kaggle.json\"\n",
        "os.makedirs(os.path.dirname(filename), exist_ok=True)\n",
        "\n",
        "request = drive_service.files().get_media(fileId=kaggle_api_key[0]['id'])\n",
        "fh = io.FileIO(filename, 'wb')\n",
        "downloader = MediaIoBaseDownload(fh, request)\n",
        "done = False\n",
        "while done is False:\n",
        "    status, done = downloader.next_chunk()\n",
        "    print(\"Download %d%%.\" % int(status.progress() * 100))\n",
        "os.chmod(filename, 600)"
      ],
      "execution_count": 2,
      "outputs": [
        {
          "output_type": "stream",
          "text": [
            "Download 100%.\n"
          ],
          "name": "stdout"
        }
      ]
    },
    {
      "cell_type": "code",
      "metadata": {
        "id": "6gLPuDQGT0lh",
        "colab_type": "code",
        "colab": {
          "base_uri": "https://localhost:8080/",
          "height": 449
        },
        "outputId": "d1e1f858-a990-4459-d29f-86cb46aee32f"
      },
      "source": [
        "!kaggle competitions list"
      ],
      "execution_count": 3,
      "outputs": [
        {
          "output_type": "stream",
          "text": [
            "Warning: Looks like you're using an outdated API Version, please consider updating (server 1.5.6 / client 1.5.4)\n",
            "ref                                            deadline             category            reward  teamCount  userHasEntered  \n",
            "---------------------------------------------  -------------------  ---------------  ---------  ---------  --------------  \n",
            "digit-recognizer                               2030-01-01 00:00:00  Getting Started  Knowledge       2341           False  \n",
            "titanic                                        2030-01-01 00:00:00  Getting Started  Knowledge      16397            True  \n",
            "house-prices-advanced-regression-techniques    2030-01-01 00:00:00  Getting Started  Knowledge       5314           False  \n",
            "imagenet-object-localization-challenge         2029-12-31 07:00:00  Research         Knowledge         57           False  \n",
            "google-quest-challenge                         2020-02-10 23:59:00  Featured           $25,000         92           False  \n",
            "tensorflow2-question-answering                 2020-01-22 23:59:00  Featured           $50,000        680           False  \n",
            "data-science-bowl-2019                         2020-01-22 23:59:00  Featured          $160,000       1252           False  \n",
            "pku-autonomous-driving                         2020-01-21 23:59:00  Featured           $25,000        351           False  \n",
            "competitive-data-science-predict-future-sales  2019-12-31 23:59:00  Playground           Kudos       4925           False  \n",
            "ashrae-energy-prediction                       2019-12-19 23:59:00  Featured           $25,000       2567           False  \n",
            "Kannada-MNIST                                  2019-12-17 23:59:00  Playground       Knowledge        856           False  \n",
            "bigquery-geotab-intersection-congestion        2019-12-12 23:59:00  Playground           Kudos        396           False  \n",
            "cat-in-the-dat                                 2019-12-09 23:59:00  Playground            Swag       1156           False  \n",
            "kaggle-survey-2019                             2019-12-02 23:59:00  Analytics          $30,000          0           False  \n",
            "nfl-big-data-bowl-2020                         2019-11-27 23:59:00  Featured           $75,000       1862           False  \n",
            "understanding_cloud_organization               2019-11-18 23:59:00  Research           $10,000       1538           False  \n",
            "rsna-intracranial-hemorrhage-detection         2019-11-13 23:59:00  Featured           $25,000       1345           False  \n",
            "3d-object-detection-for-autonomous-vehicles    2019-11-12 23:59:00  Featured           $25,000        549           False  \n",
            "severstal-steel-defect-detection               2019-10-24 23:59:00  Featured          $120,000       2433           False  \n",
            "kuzushiji-recognition                          2019-10-14 23:59:00  Playground         $15,000        293           False  \n"
          ],
          "name": "stdout"
        }
      ]
    },
    {
      "cell_type": "code",
      "metadata": {
        "id": "K_4foCdrUZXH",
        "colab_type": "code",
        "colab": {
          "base_uri": "https://localhost:8080/",
          "height": 216
        },
        "outputId": "26beb076-08ef-40a4-a660-17e490d6e20e"
      },
      "source": [
        "!kaggle competitions download -c titanic"
      ],
      "execution_count": 5,
      "outputs": [
        {
          "output_type": "stream",
          "text": [
            "Warning: Looks like you're using an outdated API Version, please consider updating (server 1.5.6 / client 1.5.4)\n",
            "Downloading train.csv to /content\n",
            "\r  0% 0.00/59.8k [00:00<?, ?B/s]\n",
            "100% 59.8k/59.8k [00:00<00:00, 23.6MB/s]\n",
            "Downloading test.csv to /content\n",
            "  0% 0.00/28.0k [00:00<?, ?B/s]\n",
            "100% 28.0k/28.0k [00:00<00:00, 23.5MB/s]\n",
            "Downloading gender_submission.csv to /content\n",
            "  0% 0.00/3.18k [00:00<?, ?B/s]\n",
            "100% 3.18k/3.18k [00:00<00:00, 2.47MB/s]\n"
          ],
          "name": "stdout"
        }
      ]
    }
  ]
}